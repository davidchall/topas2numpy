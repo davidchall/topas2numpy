{
 "cells": [
  {
   "cell_type": "markdown",
   "metadata": {},
   "source": [
    "# Usage\n",
    "\n",
    "Here are some examples of how to use `topas2numpy` in an IPython notebook.\n",
    "\n",
    "Before starting, we setup plotting with `matplotlib`."
   ]
  },
  {
   "cell_type": "code",
   "execution_count": 1,
   "metadata": {
    "collapsed": false
   },
   "outputs": [],
   "source": [
    "import numpy as np\n",
    "import matplotlib.pyplot as plt\n",
    "%matplotlib inline"
   ]
  },
  {
   "cell_type": "markdown",
   "metadata": {},
   "source": [
    "## Reading ntuples\n",
    "\n",
    "TOPAS ntuples store data in columns, with each row representing a different event in a particle's history. The exact details of what data is written to file and when this is triggered depends upon the scorer implementation.\n",
    "\n",
    "`topas2numpy.read_ntuple()` allows us to read TOPAS ntuples in ASCII, binary and limited formats. It returns a [NumPy structured array](http://docs.scipy.org/doc/numpy-1.10.1/user/basics.rec.html).\n",
    "\n",
    "Record arrays are not supported because TOPAS column name can contain characters that are illegal for attribute names. If desired, I can add this feature at the expense of changing column names.\n",
    "\n",
    "Onwards to the example usage! First, we read in the data:"
   ]
  },
  {
   "cell_type": "code",
   "execution_count": 2,
   "metadata": {
    "collapsed": true
   },
   "outputs": [],
   "source": [
    "from topas2numpy import read_ntuple\n",
    "x = read_ntuple('../tests/data/ascii-phasespace.phsp')"
   ]
  },
  {
   "cell_type": "markdown",
   "metadata": {},
   "source": [
    "Next, we want to check what columns are available in this ntuple:"
   ]
  },
  {
   "cell_type": "code",
   "execution_count": 3,
   "metadata": {
    "collapsed": false
   },
   "outputs": [
    {
     "data": {
      "text/plain": [
       "('Position X (cm)',\n",
       " 'Position Y (cm)',\n",
       " 'Position Z (cm)',\n",
       " 'Direction Cosine X',\n",
       " 'Direction Cosine Y',\n",
       " 'Energy (MeV)',\n",
       " 'Weight',\n",
       " 'Particle Type (in PDG Format)',\n",
       " 'Flag to tell if Third Direction Cosine is Negative (1 means true)',\n",
       " 'Flag to tell if this is the First Scored Particle from this History (1 means true)')"
      ]
     },
     "execution_count": 3,
     "metadata": {},
     "output_type": "execute_result"
    }
   ],
   "source": [
    "x.dtype.names"
   ]
  },
  {
   "cell_type": "markdown",
   "metadata": {},
   "source": [
    "Now we want to make a histogram of the energy of the protons contained in the ntuple. Note that the PDG code for protons is 2212."
   ]
  },
  {
   "cell_type": "code",
   "execution_count": 4,
   "metadata": {
    "collapsed": false
   },
   "outputs": [
    {
     "data": {
      "text/plain": [
       "<matplotlib.text.Text at 0x10d3f8310>"
      ]
     },
     "execution_count": 4,
     "metadata": {},
     "output_type": "execute_result"
    },
    {
     "data": {
      "image/png": "[encoded data removed]",
      "text/plain": [
       "<matplotlib.figure.Figure at 0x10d30ec50>"
      ]
     },
     "metadata": {},
     "output_type": "display_data"
    }
   ],
   "source": [
    "energy_label = 'Energy (MeV)'\n",
    "species_label = 'Particle Type (in PDG Format)'\n",
    "\n",
    "energy = x[energy_label]\n",
    "species = x[species_label]\n",
    "proton_energy = energy[species==2212]\n",
    "\n",
    "n, bins, patches = plt.hist(proton_energy)\n",
    "plt.xlabel(energy_label)\n",
    "plt.ylabel('Histories')\n",
    "plt.title('Proton energy')"
   ]
  },
  {
   "cell_type": "markdown",
   "metadata": {},
   "source": [
    "## Reading binned results\n",
    "\n",
    "TOPAS scorers can also accumulate quantities within binned geometry components. By default a sum is accumulated, but it is also possible to accumulate additional statistics such as the mean, standard deviation, etc.\n",
    "\n",
    "As more metadata is available for binned scorers than ntuple scorers, they are stored in an instance of the `BinnedScorer` class. The raw data is still kept in a NumPy array, which is kept in the `data` attribute.\n",
    "\n",
    "Our first example is a Bragg peak caused by a proton beam stopping in water. First we read in the data and see what is available:"
   ]
  },
  {
   "cell_type": "code",
   "execution_count": 5,
   "metadata": {
    "collapsed": false
   },
   "outputs": [
    {
     "name": "stdout",
     "output_type": "stream",
     "text": [
      "# DoseToWaterBinned [Gy]\n",
      "Statistics: ['Sum']\n",
      "X [cm]: 1 bins\n",
      "Y [cm]: 1 bins\n",
      "Z [cm]: 300 bins\n"
     ]
    }
   ],
   "source": [
    "from topas2numpy import BinnedResult\n",
    "dose = BinnedResult('../tests/data/Dose.csv')\n",
    "\n",
    "print '{0} [{1}]'.format(dose.quantity, dose.unit)\n",
    "print 'Statistics: {0}'.format(dose.statistics)\n",
    "for dim in dose.dimensions:\n",
    "    print '{0} [{1}]: {2} bins'.format(dim.name, dim.unit, dim.n_bins)"
   ]
  },
  {
   "cell_type": "markdown",
   "metadata": {},
   "source": [
    "Since the dose is only binned in the z-dimension, we can `numpy.squeeze()` the array to remove the other dimensions. Then we plot the dose against the z distance (i.e. depth). In this example, only the `Sum` statistic is available, but TOPAS can also provide `Standard_Deviation`, etc."
   ]
  },
  {
   "cell_type": "code",
   "execution_count": 6,
   "metadata": {
    "collapsed": false
   },
   "outputs": [
    {
     "data": {
      "text/plain": [
       "(0.0, 17)"
      ]
     },
     "execution_count": 6,
     "metadata": {},
     "output_type": "execute_result"
    },
    {
     "data": {
      "image/png": "[encoded data removed]",
      "text/plain": [
       "<matplotlib.figure.Figure at 0x10d389610>"
      ]
     },
     "metadata": {},
     "output_type": "display_data"
    }
   ],
   "source": [
    "ax = plt.subplot(111)\n",
    "z = dose.dimensions[2].get_bin_centers()\n",
    "plt.plot(z, np.squeeze(dose.data['Sum']))\n",
    "plt.xlabel('Depth [cm]')\n",
    "plt.ylabel('Dose [Gy]')\n",
    "ax.set_xlim(xmax=17)"
   ]
  },
  {
   "cell_type": "markdown",
   "metadata": {},
   "source": [
    "Our second example is the number of tracks passing through a surface as a beam of protons passes through a dipole magnet. The charged particles are deflected by the Lorentz force. Let's investigate what data is available."
   ]
  },
  {
   "cell_type": "code",
   "execution_count": 7,
   "metadata": {
    "collapsed": false
   },
   "outputs": [
    {
     "name": "stdout",
     "output_type": "stream",
     "text": [
      "# SurfaceTrackCount [None]\n",
      "Statistics: ['Sum']\n",
      "X [cm]: 10 bins\n",
      "Y [cm]: 10 bins\n",
      "Z [cm]: 1 bins\n"
     ]
    }
   ],
   "source": [
    "ntracks = BinnedResult('../tests/data/SurfaceTracks.csv')\n",
    "\n",
    "print '{0} [{1}]'.format(ntracks.quantity, ntracks.unit)\n",
    "print 'Statistics: {0}'.format(ntracks.statistics)\n",
    "for dim in ntracks.dimensions:\n",
    "    print '{0} [{1}]: {2} bins'.format(dim.name, dim.unit, dim.n_bins)"
   ]
  },
  {
   "cell_type": "markdown",
   "metadata": {},
   "source": [
    "So the number of tracks is scored on a two-dimensional surface and we can plot this as an image."
   ]
  },
  {
   "cell_type": "code",
   "execution_count": 8,
   "metadata": {
    "collapsed": false
   },
   "outputs": [
    {
     "data": {
      "text/plain": [
       "<matplotlib.colorbar.Colorbar at 0x10d319bd0>"
      ]
     },
     "execution_count": 8,
     "metadata": {},
     "output_type": "execute_result"
    },
    {
     "data": {
      "image/png": "[encoded data removed]",
      "text/plain": [
       "<matplotlib.figure.Figure at 0x10d62b8d0>"
      ]
     },
     "metadata": {},
     "output_type": "display_data"
    }
   ],
   "source": [
    "plt.imshow(np.squeeze(ntracks.data['Sum']))\n",
    "plt.colorbar()"
   ]
  },
  {
   "cell_type": "code",
   "execution_count": null,
   "metadata": {
    "collapsed": true
   },
   "outputs": [],
   "source": []
  }
 ],
 "metadata": {
  "kernelspec": {
   "display_name": "Python 2",
   "language": "python",
   "name": "python2"
  },
  "language_info": {
   "codemirror_mode": {
    "name": "ipython",
    "version": 2
   },
   "file_extension": ".py",
   "mimetype": "text/x-python",
   "name": "python",
   "nbconvert_exporter": "python",
   "pygments_lexer": "ipython2",
   "version": "2.7.11"
  }
 },
 "nbformat": 4,
 "nbformat_minor": 0
}
